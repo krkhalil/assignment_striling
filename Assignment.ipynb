{
  "nbformat": 4,
  "nbformat_minor": 0,
  "metadata": {
    "colab": {
      "provenance": []
    },
    "kernelspec": {
      "name": "python3",
      "display_name": "Python 3"
    },
    "language_info": {
      "name": "python"
    }
  },
  "cells": [
    {
      "cell_type": "markdown",
      "source": [
        "**Question 1**"
      ],
      "metadata": {
        "id": "O7XgOydpwaEt"
      }
    },
    {
      "cell_type": "code",
      "source": [
        "#  7-digit student ID\n",
        "student_id = 1234567\n",
        "\n",
        "# random digit to append\n",
        "random_digit = 8\n",
        "\n",
        "\n",
        "# Concatenate the student ID and the random digit to form an 8-digit number\n",
        "number = str(student_id) + str(random_digit)\n",
        "print (\"The number is :\" + str(number))\n",
        "\n",
        "# Calculate the probabilities\n",
        "p1 = int(number[:2]) / 100\n",
        "print(number[:2])\n",
        "p2 = int(number[2:4]) / 100\n",
        "print(number[2:4])\n",
        "p3 = int(number[4:6]) / 100\n",
        "print(number[4:6])\n",
        "p4 = int(number[6:]) / 100\n",
        "print(number[6:])\n",
        "\n",
        "# Print the probabilities\n",
        "print(f\"p1 = {p1:.2f}\")\n",
        "print(f\"p2 = {p2:.2f}\")\n",
        "print(f\"p3 = {p3:.2f}\")\n",
        "print(f\"p4 = {p4:.2f}\")"
      ],
      "metadata": {
        "colab": {
          "base_uri": "https://localhost:8080/"
        },
        "id": "_9u1PkfnvG0b",
        "outputId": "52ca98a8-02fe-4fc1-cc77-de0e26917e2b"
      },
      "execution_count": 15,
      "outputs": [
        {
          "output_type": "stream",
          "name": "stdout",
          "text": [
            "The number is :30766548\n",
            "30\n",
            "76\n",
            "65\n",
            "48\n",
            "p1 = 0.30\n",
            "p2 = 0.76\n",
            "p3 = 0.65\n",
            "p4 = 0.48\n"
          ]
        }
      ]
    },
    {
      "cell_type": "markdown",
      "source": [
        "**2 A**"
      ],
      "metadata": {
        "id": "F3AL_KW3vHyx"
      }
    },
    {
      "cell_type": "code",
      "execution_count": 16,
      "metadata": {
        "id": "NQkGF4Bd9Y2d",
        "colab": {
          "base_uri": "https://localhost:8080/",
          "height": 248
        },
        "outputId": "de3d60a9-b88a-47fb-8bc8-cb054bdde0d8"
      },
      "outputs": [
        {
          "output_type": "display_data",
          "data": {
            "text/plain": [
              "<Figure size 432x288 with 1 Axes>"
            ],
            "image/png": "[encoded data removed]"
          },
          "metadata": {}
        }
      ],
      "source": [
        "import networkx as nx\n",
        "import matplotlib.pyplot as plt\n",
        "\n",
        "# Create a directed graph to represent the state space\n",
        "G = nx.DiGraph()\n",
        "\n",
        "# Add nodes to the graph\n",
        "G.add_nodes_from(['red', 'violet', 'blue', 'yellow'])\n",
        "\n",
        "# Add edges to the graph with their transition probabilities\n",
        "G.add_edge('red', 'red', weight=0.24)\n",
        "G.add_edge('red', 'violet', weight=0.32)\n",
        "G.add_edge('red', 'blue', weight=0.26)\n",
        "G.add_edge('violet', 'red', weight=0.31)\n",
        "G.add_edge('violet', 'violet', weight=0.26)\n",
        "G.add_edge('violet', 'yellow', weight=0.24)\n",
        "G.add_edge('blue', 'violet', weight=0.25)\n",
        "G.add_edge('blue', 'red', weight=0.20)\n",
        "G.add_edge('blue', 'yellow', weight=0.25)\n",
        "G.add_edge('yellow', 'red', weight=0.18)\n",
        "G.add_edge('yellow', 'violet', weight=0.23)\n",
        "G.add_edge('yellow', 'blue', weight=0.27)\n",
        "G.add_edge('yellow', 'yellow', weight=0.32)\n",
        "\n",
        "# Set the positions of the nodes for plotting\n",
        "pos = {'red': (0, 1), 'violet': (1, 1), 'blue': (2, 1), 'yellow': (1, 0)}\n",
        "\n",
        "# Draw the graph with labels and edge weights\n",
        "nx.draw_networkx(G, pos, with_labels=True, node_color='lightblue',\n",
        "                 node_size=1000, font_size=16, width=2, arrowstyle='->',\n",
        "                 arrowsize=20, edge_color='grey', style='dashed')\n",
        "nx.draw_networkx_edge_labels(G, pos, edge_labels=nx.get_edge_attributes(G, 'weight'))\n",
        "\n",
        "# Show the plot\n",
        "plt.axis('off')\n",
        "plt.show()\n"
      ]
    },
    {
      "cell_type": "markdown",
      "source": [
        "**2 B**"
      ],
      "metadata": {
        "id": "Aocop5QnwjdJ"
      }
    },
    {
      "cell_type": "code",
      "source": [
        "import numpy as np\n",
        "\n",
        "# Create the 4x4 transition matrix\n",
        "transition_matrix = np.array([[0.24, 0.32, 0.26, 0],\n",
        "                              [0.31, 0.26, 0, 0.24],\n",
        "                              [0.2, 0.25, 0, 0.25],\n",
        "                              [0.18, 0.23, 0.27, 0.32]])\n",
        "\n",
        "# Calculate the 2-step transition matrix\n",
        "two_step_matrix = np.linalg.matrix_power(transition_matrix, 2)\n",
        "\n",
        "# Calculate the 4-step transition matrix\n",
        "four_step_matrix = np.linalg.matrix_power(transition_matrix, 4)\n",
        "\n",
        "# Print the transition matrices\n",
        "print(\"2-step transition matrix:\")\n",
        "print(two_step_matrix)\n",
        "\n",
        "print(\"4-step transition matrix:\")\n",
        "print(four_step_matrix)"
      ],
      "metadata": {
        "colab": {
          "base_uri": "https://localhost:8080/"
        },
        "id": "tAUWwaeszBzJ",
        "outputId": "74250001-f633-4bc5-aba8-6f8c4e64c3fd"
      },
      "execution_count": 17,
      "outputs": [
        {
          "output_type": "stream",
          "name": "stdout",
          "text": [
            "2-step transition matrix:\n",
            "[[0.2088 0.225  0.0624 0.1418]\n",
            " [0.1982 0.222  0.1454 0.1392]\n",
            " [0.1705 0.1865 0.1195 0.14  ]\n",
            " [0.2261 0.2585 0.1332 0.2251]]\n",
            "4-step transition matrix:\n",
            "[[0.13089262 0.1452229  0.07208868 0.10158302]\n",
            " [0.14164838 0.1569793  0.08056322 0.11069708]\n",
            " [0.12459345 0.13824225 0.07068455 0.0983817 ]\n",
            " [0.17205009 0.19128965 0.09759526 0.13736219]]\n"
          ]
        }
      ]
    },
    {
      "cell_type": "markdown",
      "source": [
        "**2 C**"
      ],
      "metadata": {
        "id": "PBqQXWUXwlX1"
      }
    },
    {
      "cell_type": "code",
      "source": [
        "import numpy as np\n",
        "\n",
        "# Create the 4x4 transition matrix\n",
        "transition_matrix = np.array([[0.24, 0.32, 0.26, 0],\n",
        "                              [0.31, 0.26, 0, 0.24],\n",
        "                              [0.2, 0.25, 0, 0.25],\n",
        "                              [0.18, 0.23, 0.27, 0.32]])\n",
        "\n",
        "# Create the initial flower color distribution\n",
        "init_distribution = np.array([0.33, 0.24, 0.03, 0.4])\n",
        "\n",
        "# Calculate the distribution of colors after 5 generations\n",
        "final_distribution = np.linalg.matrix_power(transition_matrix, 5) @ init_distribution\n",
        "\n",
        "# Print the final distribution of colors\n",
        "print(\"Final distribution of colors after 5 generations:\")\n",
        "print(final_distribution)"
      ],
      "metadata": {
        "colab": {
          "base_uri": "https://localhost:8080/"
        },
        "id": "nBPPhsTnzhs5",
        "outputId": "75da36b3-ed14-4d45-c644-40aad988452c"
      },
      "execution_count": 18,
      "outputs": [
        {
          "output_type": "stream",
          "name": "stdout",
          "text": [
            "Final distribution of colors after 5 generations:\n",
            "[0.10105873 0.11008555 0.09708716 0.13454425]\n"
          ]
        }
      ]
    },
    {
      "cell_type": "markdown",
      "source": [
        "**2 D**"
      ],
      "metadata": {
        "id": "rWmXe7ghwn-d"
      }
    },
    {
      "cell_type": "code",
      "source": [
        "import numpy as np\n",
        "\n",
        "# Create the 4x4 transition matrix\n",
        "transition_matrix = np.array([[0.24, 0.32, 0.26, 0],\n",
        "                              [0.31, 0.26, 0, 0.24],\n",
        "                              [0.2, 0.25, 0, 0.25],\n",
        "                              [0.18, 0.23, 0.27, 0.32]])\n",
        "\n",
        "# Calculate the eigenvalues and eigenvectors of the transition matrix\n",
        "eigenvalues, eigenvectors = np.linalg.eig(transition_matrix.T)\n",
        "\n",
        "# Find the index of the eigenvalue with unit modulus\n",
        "index = np.argmin(abs(abs(eigenvalues) - 1))\n",
        "\n",
        "# Find the corresponding eigenvector and normalize it\n",
        "stationary_distribution = np.real(eigenvectors[:, index].T / np.sum(eigenvectors[:, index]))\n",
        "\n",
        "# Print the stationary distribution\n",
        "print(\"Stationary distribution of colors:\")\n",
        "print(stationary_distribution)"
      ],
      "metadata": {
        "colab": {
          "base_uri": "https://localhost:8080/"
        },
        "id": "rIjqMZQ4zx-A",
        "outputId": "35262425-511f-4b5d-e064-99ebab3fd257"
      },
      "execution_count": 19,
      "outputs": [
        {
          "output_type": "stream",
          "name": "stdout",
          "text": [
            "Stationary distribution of colors:\n",
            "[0.2891061  0.32083113 0.16287137 0.22719141]\n"
          ]
        }
      ]
    },
    {
      "cell_type": "markdown",
      "source": [
        "**3 A**"
      ],
      "metadata": {
        "id": "IvtL-9Gfwrhs"
      }
    },
    {
      "cell_type": "code",
      "source": [
        "import numpy as np\n",
        "\n",
        "# Define the transition probability matrix\n",
        "P = np.array([[0.2, 0.1, 0.15, 0, 0.55],\n",
        "              [0, 1, 0, 0, 0],\n",
        "              [0.35, 0.2, 0.2, 0.1, 0.15],\n",
        "              [0, 0, 0, 1, 0],\n",
        "              [0.25, 0.2, 0.15, 0.25, 0.15]])\n",
        "\n",
        "# Identify the absorbing and transient states\n",
        "absorbing_states = []\n",
        "transient_states = []\n",
        "for i in range(len(P)):\n",
        "    if P[i,i] == 1:\n",
        "        absorbing_states.append(i)\n",
        "    else:\n",
        "        transient_states.append(i)\n",
        "\n",
        "# Separate the matrix into Q and R\n",
        "Q = P[np.ix_(transient_states, transient_states)]\n",
        "R = P[np.ix_(transient_states, absorbing_states)]\n",
        "\n",
        "# Print the matrices Q and R\n",
        "print(\"Q = \\n\", Q)\n",
        "print(\"R = \\n\", R)\n"
      ],
      "metadata": {
        "colab": {
          "base_uri": "https://localhost:8080/"
        },
        "id": "LRl0s7N1yfLn",
        "outputId": "27a98dd1-f0e0-4895-b9d1-ceaca25ca52b"
      },
      "execution_count": 33,
      "outputs": [
        {
          "output_type": "stream",
          "name": "stdout",
          "text": [
            "Q = \n",
            " [[0.2  0.15 0.55]\n",
            " [0.35 0.2  0.15]\n",
            " [0.25 0.15 0.15]]\n",
            "R = \n",
            " [[0.1  0.  ]\n",
            " [0.2  0.1 ]\n",
            " [0.2  0.25]]\n"
          ]
        }
      ]
    },
    {
      "cell_type": "markdown",
      "source": [
        "**3 B**"
      ],
      "metadata": {
        "id": "bEkCgU5EwuTl"
      }
    },
    {
      "cell_type": "code",
      "source": [
        "import numpy as np\n",
        "\n",
        "# Define the transition probability matrix\n",
        "P = np.array([[0.2, 0.1, 0.15, 0.0, 0.55],\n",
        "              [0.0, 1.0, 0.0, 0.0, 0.0],\n",
        "              [0.35, 0.2, 0.2, 0.1, 0.15],\n",
        "              [0.0, 0.0, 0.0, 1.0, 0.0],\n",
        "              [0.25, 0.2, 0.15, 0.25, 0.15]])\n",
        "\n",
        "# Identify the transient states\n",
        "transient_states = [0, 2, 4]\n",
        "\n",
        "# Compute the fundamental matrix\n",
        "N = np.linalg.inv(np.eye(len(transient_states)) - P[np.ix_(transient_states, transient_states)])\n",
        "\n",
        "# Compute the mean number of times in each transient state, given starting in each state\n",
        "for i in range(len(transient_states)):\n",
        "    mean_num_transitions = np.zeros(len(transient_states))\n",
        "    for j in range(len(transient_states)):\n",
        "        if N[j].sum() == 0:\n",
        "            mean_num_transitions[j] = 0\n",
        "        else:\n",
        "            mean_num_transitions[j] = N[j][i] / N[j].sum()\n",
        "    print(f'State {transient_states[i]+1}: {mean_num_transitions}')\n"
      ],
      "metadata": {
        "id": "WLU2FDRkyfy6",
        "colab": {
          "base_uri": "https://localhost:8080/"
        },
        "outputId": "e3219256-68ef-44cf-a312-5626b3d87328"
      },
      "execution_count": 34,
      "outputs": [
        {
          "output_type": "stream",
          "name": "stdout",
          "text": [
            "State 1: [0.4943609  0.28151261 0.25313283]\n",
            "State 3: [0.15789474 0.45588235 0.15789474]\n",
            "State 5: [0.34774436 0.26260504 0.58897243]\n"
          ]
        }
      ]
    },
    {
      "cell_type": "markdown",
      "source": [
        "**3C**"
      ],
      "metadata": {
        "id": "oFnF6BaHwwJ9"
      }
    },
    {
      "cell_type": "code",
      "source": [
        "import numpy as np\n",
        "\n",
        "# Define the transition matrix\n",
        "P = np.array([[0.4, 0.6, 0.0, 0.0],\n",
        "              [0.2, 0.3, 0.5, 0.0],\n",
        "              [0.0, 0.0, 0.5, 0.5],\n",
        "              [0.0, 0.0, 0.0, 1.0]])\n",
        "\n",
        "# Find the transient and absorbing states\n",
        "transient_states = np.where(np.diag(P) == 0)[0]\n",
        "absorbing_states = np.where(np.diag(P) == 1)[0]\n",
        "\n",
        "# Compute the fundamental matrix\n",
        "N = np.linalg.inv(np.eye(len(transient_states)) - P[np.ix_(transient_states, transient_states)])\n",
        "\n",
        "# Compute the mean number of transitions from each transient state to an absorbing state\n",
        "for i in range(len(transient_states)):\n",
        "    mean_num_transitions = np.zeros(len(absorbing_states))\n",
        "    for j in range(len(absorbing_states)):\n",
        "        mean_num_transitions[j] = N[i][j + len(transient_states)] / N[i].sum()\n",
        "    print(f'State {transient_states[i]}: {mean_num_transitions.mean()}')\n"
      ],
      "metadata": {
        "id": "UAPDDoQxygY9"
      },
      "execution_count": 1,
      "outputs": []
    },
    {
      "cell_type": "markdown",
      "source": [
        "**3D**"
      ],
      "metadata": {
        "id": "JNoxwTnMwyRn"
      }
    },
    {
      "cell_type": "code",
      "source": [
        "import numpy as np\n",
        "\n",
        "# Define the transition probability matrix\n",
        "P = np.array([[0.4, 0.3, 0.3, 0.0],\n",
        "              [0.0, 0.2, 0.5, 0.3],\n",
        "              [0.2, 0.0, 0.3, 0.5],\n",
        "              [0.0, 0.0, 0.0, 1.0]])\n",
        "\n",
        "# Find the indices of the transient and absorbing states\n",
        "transient_states = np.where(np.diag(P) == 0)[0]\n",
        "absorbing_states = np.where(np.diag(P) == 1)[0]\n",
        "\n",
        "# Compute the fundamental matrix\n",
        "N = np.linalg.inv(np.eye(len(transient_states)) - P[np.ix_(transient_states, transient_states)])\n",
        "\n",
        "# Find the probability of ending in each absorbing state\n",
        "for i in range(len(transient_states)):\n",
        "    prob_end_absorbing = N[i, np.ix_(absorbing_states)]\n",
        "    print(f'State {transient_states[i]}: {prob_end_absorbing}')\n"
      ],
      "metadata": {
        "id": "CQzWIIsgyZ6m"
      },
      "execution_count": null,
      "outputs": []
    },
    {
      "cell_type": "markdown",
      "source": [
        "**4 A**"
      ],
      "metadata": {
        "id": "Lb5vc-aIw4_h"
      }
    },
    {
      "cell_type": "code",
      "source": [
        "import numpy as np\n",
        "import matplotlib.pyplot as plt\n",
        "\n",
        "# Set the parameters of the random walk\n",
        "p1, p2, p3, p4 = 0.25, 0.25, 0.25, 0.25\n",
        "num_steps = 2500\n",
        "num_walks = 5\n",
        "\n",
        "# Create an array to store the positions of each random walk\n",
        "positions = np.zeros((num_walks, num_steps, 2))\n",
        "\n",
        "# Simulate the random walks\n",
        "for i in range(num_walks):\n",
        "    position = np.array([0, 0])\n",
        "    for j in range(num_steps):\n",
        "        # Generate a random number to determine the direction of the next step\n",
        "        rand = np.random.rand()\n",
        "        if rand < p1:\n",
        "            position += np.array([0, 1])\n",
        "        elif rand < p1 + p2:\n",
        "            position += np.array([0, -1])\n",
        "        elif rand < p1 + p2 + p3:\n",
        "            position += np.array([1, 0])\n",
        "        else:\n",
        "            position += np.array([-1, 0])\n",
        "        positions[i, j] = position\n",
        "\n",
        "# Plot the random walks\n",
        "colors = ['b', 'g', 'r', 'c', 'm']\n",
        "for i in range(num_walks):\n",
        "    plt.plot(positions[i,:,0], positions[i,:,1], color=colors[i], linewidth=1)\n",
        "\n",
        "plt.title(f'{num_walks} Random Walks with {num_steps} Steps')\n",
        "plt.xlabel('X')\n",
        "plt.ylabel('Y')\n",
        "plt.show()"
      ],
      "metadata": {
        "colab": {
          "base_uri": "https://localhost:8080/",
          "height": 295
        },
        "id": "BkuHOSxxpaz0",
        "outputId": "8c25cc5a-1c77-49e8-c918-496e763607f2"
      },
      "execution_count": null,
      "outputs": [
        {
          "output_type": "display_data",
          "data": {
            "text/plain": [
              "<Figure size 432x288 with 1 Axes>"
            ],
            "image/png": "[encoded data removed]"
          },
          "metadata": {
            "needs_background": "light"
          }
        }
      ]
    },
    {
      "cell_type": "markdown",
      "source": [
        "**B**"
      ],
      "metadata": {
        "id": "qfeFu0KDxNp5"
      }
    },
    {
      "cell_type": "code",
      "source": [
        "import numpy as np\n",
        "\n",
        "# Get the input from the user\n",
        "num_steps = int(input(\"Enter the number of steps: \"))\n",
        "p1, p2, p3, p4 = map(float, input(\"Enter the probabilities of moving in each direction (separated by spaces): \").split())\n",
        "num_walks = int(input(\"Enter the number of walks: \"))\n",
        "\n",
        "# Create an array to store the positions of each random walk\n",
        "positions = np.zeros((num_walks, num_steps, 2))\n",
        "\n",
        "# Simulate the random walks\n",
        "for i in range(num_walks):\n",
        "    position = np.array([0, 0])\n",
        "    for j in range(num_steps):\n",
        "        # Generate a random number to determine the direction of the next step\n",
        "        rand = np.random.rand()\n",
        "        if rand < p1:\n",
        "            position += np.array([0, 1])\n",
        "        elif rand < p1 + p2:\n",
        "            position += np.array([0, -1])\n",
        "        elif rand < p1 + p2 + p3:\n",
        "            position += np.array([1, 0])\n",
        "        else:\n",
        "            position += np.array([-1, 0])\n",
        "        positions[i, j] = position\n",
        "\n",
        "# Compute the distances of each random walk from the starting point\n",
        "distances = np.sqrt(np.sum(positions**2, axis=2))\n",
        "\n",
        "# Compute the average distance over all random walks\n",
        "expected_length = np.mean(distances[:, -1])\n",
        "\n",
        "print(f\"Expected length of the walk after {num_steps} steps: {expected_length:.2f}\")"
      ],
      "metadata": {
        "colab": {
          "base_uri": "https://localhost:8080/"
        },
        "id": "ctK9rqNXrYpy",
        "outputId": "8f7235f2-33e0-4e29-e025-42a10b0fe6ff"
      },
      "execution_count": null,
      "outputs": [
        {
          "output_type": "stream",
          "name": "stdout",
          "text": [
            "Enter the number of steps: 2500\n",
            "Enter the probabilities of moving in each direction (separated by spaces): 0.25 0.25 0.25 0.25\n",
            "Enter the number of walks: 10000\n",
            "Expected length of the walk after 2500 steps: 44.36\n"
          ]
        }
      ]
    },
    {
      "cell_type": "markdown",
      "source": [
        "**5**"
      ],
      "metadata": {
        "id": "x-BTvJhHsUOM"
      }
    },
    {
      "cell_type": "code",
      "source": [
        "import numpy as np\n",
        "\n",
        "# Define parameters\n",
        "a = 0.5\n",
        "b = 1.0\n",
        "T = 1.0\n",
        "N = 2500\n",
        "dt = T/N\n",
        "\n",
        "# Generate Wiener process\n",
        "dW = np.sqrt(dt) * np.random.normal(size=N)\n",
        "\n",
        "# Initialise arrays for S and t\n",
        "S = np.zeros(N+1)\n",
        "t = np.linspace(0, T, N+1)\n",
        "\n",
        "# Set initial condition\n",
        "S[0] = 0\n",
        "\n",
        "# Simulate the random walk\n",
        "for i in range(N):\n",
        "    S[i+1] = S[i] + a*dt + b*dW[i]\n",
        "\n",
        "# Estimate expected value\n",
        "mean_S = np.mean(S)\n",
        "\n",
        "print(\"Expected value of S after 2500 steps: \", mean_S)"
      ],
      "metadata": {
        "colab": {
          "base_uri": "https://localhost:8080/"
        },
        "id": "s0ZalVzKsYy9",
        "outputId": "0da7843f-62fe-47ec-c065-a5c03ea98fee"
      },
      "execution_count": null,
      "outputs": [
        {
          "output_type": "stream",
          "name": "stdout",
          "text": [
            "Expected value of S after 2500 steps:  0.04056246901183116\n"
          ]
        }
      ]
    },
    {
      "cell_type": "markdown",
      "source": [
        "**6**"
      ],
      "metadata": {
        "id": "hlzKGOJAuSlL"
      }
    },
    {
      "cell_type": "code",
      "source": [
        "import random\n",
        "import math\n",
        "\n",
        "# Define the radius of the circle\n",
        "r = 1.0\n",
        "\n",
        "# Define the number of points to generate in each chain\n",
        "num_points = 10**6\n",
        "\n",
        "# Define the burn-in period for each chain\n",
        "burn_in = 1000\n",
        "\n",
        "# Define a function to calculate the distance between two points\n",
        "def distance(x1, y1, x2, y2):\n",
        "    return math.sqrt((x1 - x2)**2 + (y1 - y2)**2)\n",
        "\n",
        "# Generate 5 Markov Chains\n",
        "for chain in range(5):\n",
        "    # Initialize counters for the number of points within the circle and total number of points\n",
        "    count_in_circle = 0\n",
        "    count_total = 0\n",
        "\n",
        "    # Run the chain for a large number of steps\n",
        "    for step in range(num_points + burn_in):\n",
        "        # Randomly select a point within the square\n",
        "        x = random.uniform(-1, 1)\n",
        "        y = random.uniform(-1, 1)\n",
        "\n",
        "        # Calculate the distance between the selected point and the center of the circle\n",
        "        d = distance(x, y, 0, 0)\n",
        "\n",
        "        # Check if the point is within the circle\n",
        "        if d <= r:\n",
        "            count_in_circle += 1\n",
        "        \n",
        "        # Increment the total number of points\n",
        "        count_total += 1\n",
        "        \n",
        "        # Calculate the estimate of pi/4 after the burn-in period\n",
        "        if step == burn_in + num_points - 1:\n",
        "            pi_estimate = 4 * count_in_circle / count_total\n",
        "            print(f\"Chain {chain + 1}: π ≈ {pi_estimate}\")"
      ],
      "metadata": {
        "colab": {
          "base_uri": "https://localhost:8080/"
        },
        "id": "M-dO0RChuUWc",
        "outputId": "0aced4f2-f583-4ffb-e557-215eff174bdb"
      },
      "execution_count": null,
      "outputs": [
        {
          "output_type": "stream",
          "name": "stdout",
          "text": [
            "Chain 1: π ≈ 3.1415704295704296\n",
            "Chain 2: π ≈ 3.141842157842158\n",
            "Chain 3: π ≈ 3.1452987012987013\n",
            "Chain 4: π ≈ 3.141838161838162\n",
            "Chain 5: π ≈ 3.1433886113886116\n"
          ]
        }
      ]
    },
    {
      "cell_type": "code",
      "source": [
        "import random\n",
        "import math\n",
        "import numpy as np\n",
        "\n",
        "# Define the radius of the circle\n",
        "r = 1.0\n",
        "\n",
        "# Define the number of points to generate in each chain\n",
        "num_points = 10**6\n",
        "\n",
        "# Define the burn-in period for each chain\n",
        "burn_in = 1000\n",
        "\n",
        "# Define a function to calculate the distance between two points\n",
        "def distance(x1, y1, x2, y2):\n",
        "    return math.sqrt((x1 - x2)**2 + (y1 - y2)**2)\n",
        "\n",
        "# Initialize a list to store the estimates of pi for each chain\n",
        "pi_estimates = []\n",
        "\n",
        "# Generate 5 Markov Chains\n",
        "for chain in range(5):\n",
        "    # Initialize counters for the number of points within the circle and total number of points\n",
        "    count_in_circle = 0\n",
        "    count_total = 0\n",
        "\n",
        "    # Initialize a list to store the estimates of pi for each step after the burn-in period\n",
        "    pi_steps = []\n",
        "\n",
        "    # Run the chain for a large number of steps\n",
        "    for step in range(num_points + burn_in):\n",
        "        # Randomly select a point within the square\n",
        "        x = random.uniform(-1, 1)\n",
        "        y = random.uniform(-1, 1)\n",
        "\n",
        "        # Calculate the distance between the selected point and the center of the circle\n",
        "        d = distance(x, y, 0, 0)\n",
        "\n",
        "        # Check if the point is within the circle\n",
        "        if d <= r:\n",
        "            count_in_circle += 1\n",
        "        \n",
        "        # Increment the total number of points\n",
        "        count_total += 1\n",
        "        \n",
        "        # Calculate the estimate of pi/4 after the burn-in period\n",
        "        if step >= burn_in:\n",
        "            pi_estimate = 4 * count_in_circle / count_total\n",
        "            pi_steps.append(pi_estimate)\n",
        "\n",
        "    # Save the list of estimates of pi for this chain\n",
        "    pi_estimates.append(pi_steps)\n",
        "\n",
        "# Calculate the within-chain variance and correlation for each chain\n",
        "for chain in range(5):\n",
        "    var_within = np.var(pi_estimates[chain])\n",
        "    corr_within = np.corrcoef(pi_estimates[chain][:-1], pi_estimates[chain][1:])[0, 1]\n",
        "    print(f\"Chain {chain + 1}: within-chain variance = {var_within:.4f}, within-chain correlation = {corr_within:.4f}\")\n",
        "\n",
        "# Calculate the between-chain variance and correlation\n",
        "pi_means = np.mean(pi_estimates, axis=1)\n",
        "var_between = np.var(pi_means)\n",
        "corr_between = np.corrcoef(pi_means[:-1], pi_means[1:])[0, 1]\n",
        "print(f\"Between-chain variance = {var_between:.4f}, between-chain correlation = {corr_between:.4f}\")"
      ],
      "metadata": {
        "colab": {
          "base_uri": "https://localhost:8080/"
        },
        "id": "gKqJbOUBub-R",
        "outputId": "c8056b83-af5f-4728-afea-129a2dbeab7a"
      },
      "execution_count": null,
      "outputs": [
        {
          "output_type": "stream",
          "name": "stdout",
          "text": [
            "Chain 1: within-chain variance = 0.0000, within-chain correlation = 0.9998\n",
            "Chain 2: within-chain variance = 0.0000, within-chain correlation = 0.9999\n",
            "Chain 3: within-chain variance = 0.0000, within-chain correlation = 0.9999\n",
            "Chain 4: within-chain variance = 0.0000, within-chain correlation = 0.9998\n",
            "Chain 5: within-chain variance = 0.0000, within-chain correlation = 0.9997\n",
            "Between-chain variance = 0.0000, between-chain correlation = -0.1352\n"
          ]
        }
      ]
    }
  ]
}
